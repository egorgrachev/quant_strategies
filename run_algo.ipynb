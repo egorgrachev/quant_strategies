{
 "cells": [
  {
   "cell_type": "code",
   "execution_count": 1,
   "metadata": {
    "collapsed": true
   },
   "outputs": [],
   "source": [
    "from zipline.api import order_target, record, symbol, history, add_history"
   ]
  },
  {
   "cell_type": "code",
   "execution_count": 2,
   "metadata": {
    "collapsed": true
   },
   "outputs": [],
   "source": [
    "def initialize(context):\n",
    "    # Register 2 histories that track daily prices,\n",
    "    # one with a 100 window and one with a 300 day window\n",
    "    add_history(100, '1d', 'price')\n",
    "    add_history(300, '1d', 'price')\n",
    "\n",
    "    context.i = 0"
   ]
  },
  {
   "cell_type": "code",
   "execution_count": 3,
   "metadata": {
    "collapsed": true
   },
   "outputs": [],
   "source": [
    "def handle_data(context, data):\n",
    "    # Skip first 300 days to get full windows\n",
    "    context.i += 1\n",
    "    if context.i < 300:\n",
    "        return\n",
    "\n",
    "    # Compute averages\n",
    "    # history() has to be called with the same params\n",
    "    # from above and returns a pandas dataframe.\n",
    "    short_mavg = history(100, '1d', 'price').mean()\n",
    "    long_mavg = history(300, '1d', 'price').mean()\n",
    "\n",
    "    sym = symbol('AAPL')\n",
    "\n",
    "    # Trading logic\n",
    "    if short_mavg[sym] > long_mavg[sym]:\n",
    "        # order_target orders as many shares as needed to\n",
    "        # achieve the desired number of shares.\n",
    "        order_target(sym, 100)\n",
    "    elif short_mavg[sym] < long_mavg[sym]:\n",
    "        order_target(sym, 0)\n",
    "\n",
    "    # Save values for later inspection\n",
    "    record(AAPL=data[sym].price,\n",
    "           short_mavg=short_mavg[sym],\n",
    "           long_mavg=long_mavg[sym])"
   ]
  }
 ],
 "metadata": {
  "kernelspec": {
   "display_name": "Python 3",
   "language": "python",
   "name": "python3"
  },
  "language_info": {
   "codemirror_mode": {
    "name": "ipython",
    "version": 3
   },
   "file_extension": ".py",
   "mimetype": "text/x-python",
   "name": "python",
   "nbconvert_exporter": "python",
   "pygments_lexer": "ipython3",
   "version": "3.4.3"
  }
 },
 "nbformat": 4,
 "nbformat_minor": 0
}
